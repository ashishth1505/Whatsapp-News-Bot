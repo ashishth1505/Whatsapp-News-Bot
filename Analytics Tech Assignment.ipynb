{
 "cells": [
  {
   "cell_type": "code",
   "execution_count": 1,
   "metadata": {},
   "outputs": [],
   "source": [
    "#Importing librarires\n",
    "from bs4 import BeautifulSoup as soup\n",
    "from urllib import request\n",
    "import pandas as pd"
   ]
  },
  {
   "cell_type": "code",
   "execution_count": 2,
   "metadata": {},
   "outputs": [],
   "source": [
    "def headline_miner(url):\n",
    "    page_open = request.urlopen(url)\n",
    "    #Loading Page\n",
    "    html_page = page_open.read()\n",
    "    page_open.close()\n",
    "    #Parsing the page:\n",
    "    parsed_page = soup(html_page,\"html.parser\")\n",
    "\n",
    "    #Mining the headline and content\n",
    "    head_df = pd.DataFrame(columns = [\"Headline\",\"Content\"])\n",
    "\n",
    "    #Extracting the useful information\n",
    "    news_box = parsed_page.findAll(\"div\",{\"class\":\"news-card z-depth-1\"})\n",
    "    for i in range(5):\n",
    "        head = news_box[i].find(\"a\",{\"class\":\"clickable\"}).text.strip()\n",
    "        cont = news_box[i].find(\"div\",{\"itemprop\":\"articleBody\"}).text.strip()\n",
    "        head_df = head_df.append({\"Headline\":head,\"Content\":cont},ignore_index=True)\n",
    "    return head_df"
   ]
  },
  {
   "cell_type": "code",
   "execution_count": 7,
   "metadata": {},
   "outputs": [
    {
     "data": {
      "text/html": [
       "<div>\n",
       "<style scoped>\n",
       "    .dataframe tbody tr th:only-of-type {\n",
       "        vertical-align: middle;\n",
       "    }\n",
       "\n",
       "    .dataframe tbody tr th {\n",
       "        vertical-align: top;\n",
       "    }\n",
       "\n",
       "    .dataframe thead th {\n",
       "        text-align: right;\n",
       "    }\n",
       "</style>\n",
       "<table border=\"1\" class=\"dataframe\">\n",
       "  <thead>\n",
       "    <tr style=\"text-align: right;\">\n",
       "      <th></th>\n",
       "      <th>Headline</th>\n",
       "      <th>Content</th>\n",
       "    </tr>\n",
       "  </thead>\n",
       "  <tbody>\n",
       "    <tr>\n",
       "      <th>0</th>\n",
       "      <td>Punjab Minister of Jails Sukhjinder Singh Rand...</td>\n",
       "      <td>Punjab Chief Minister Captain Amarinder Singh ...</td>\n",
       "    </tr>\n",
       "    <tr>\n",
       "      <th>1</th>\n",
       "      <td>Govt releases guidelines for film shooting; ma...</td>\n",
       "      <td>Government has released Standard Operating Pro...</td>\n",
       "    </tr>\n",
       "    <tr>\n",
       "      <th>2</th>\n",
       "      <td>'Gunjan...' far from truth: Ex-pilot who train...</td>\n",
       "      <td>In a column for ThePrint, Retired Wing Command...</td>\n",
       "    </tr>\n",
       "    <tr>\n",
       "      <th>3</th>\n",
       "      <td>Hindus, Muslims from over 101 countries chante...</td>\n",
       "      <td>Late actor Sushant Singh Rajput's sister Shwet...</td>\n",
       "    </tr>\n",
       "    <tr>\n",
       "      <th>4</th>\n",
       "      <td>Nobody in Sushant's family knows Sandip, he sa...</td>\n",
       "      <td>Vikas Singh, the lawyer representing Sushant S...</td>\n",
       "    </tr>\n",
       "  </tbody>\n",
       "</table>\n",
       "</div>"
      ],
      "text/plain": [
       "                                            Headline  \\\n",
       "0  Punjab Minister of Jails Sukhjinder Singh Rand...   \n",
       "1  Govt releases guidelines for film shooting; ma...   \n",
       "2  'Gunjan...' far from truth: Ex-pilot who train...   \n",
       "3  Hindus, Muslims from over 101 countries chante...   \n",
       "4  Nobody in Sushant's family knows Sandip, he sa...   \n",
       "\n",
       "                                             Content  \n",
       "0  Punjab Chief Minister Captain Amarinder Singh ...  \n",
       "1  Government has released Standard Operating Pro...  \n",
       "2  In a column for ThePrint, Retired Wing Command...  \n",
       "3  Late actor Sushant Singh Rajput's sister Shwet...  \n",
       "4  Vikas Singh, the lawyer representing Sushant S...  "
      ]
     },
     "execution_count": 7,
     "metadata": {},
     "output_type": "execute_result"
    }
   ],
   "source": [
    "main_url = \"http://www.inshorts.com/en/read\"\n",
    "tophead = headline_miner(main_url)\n",
    "tophead"
   ]
  },
  {
   "cell_type": "code",
   "execution_count": 4,
   "metadata": {},
   "outputs": [],
   "source": [
    "from selenium import webdriver\n",
    "import time"
   ]
  },
  {
   "cell_type": "code",
   "execution_count": 5,
   "metadata": {},
   "outputs": [],
   "source": [
    "path = \"C:\\chrome driver\\chromedriver.exe\""
   ]
  },
  {
   "cell_type": "code",
   "execution_count": 9,
   "metadata": {},
   "outputs": [],
   "source": [
    "browser = webdriver.Chrome(path)\n",
    "browser.get(\"https://web.whatsapp.com/\")\n",
    "time.sleep(20)\n",
    "browser.find_element_by_xpath('//*[@id=\"side\"]/div[1]/div/label/div/div[2]').send_keys('MA-group')\n",
    "time.sleep(3)\n",
    "browser.find_element_by_xpath('//*[@title=\"MA-group\"]').click()\n",
    "time.sleep(2)\n",
    "browser.find_element_by_xpath('//*[@id=\"main\"]/footer/div[1]/div[2]/div/div[2]').send_keys(\"*\", \"Top 5 News\", \"*\",\"\\n\")\n",
    "time.sleep(1)\n",
    "for i in range(len(tophead)):\n",
    "    browser.find_element_by_xpath('//*[@id=\"main\"]/footer/div[1]/div[2]/div/div[2]').send_keys(\"*\",tophead.loc[i][0],\"*\", \"\\n\", tophead.loc[i][1],\"\\n\",\"******************************\")\n",
    "    time.sleep(1)\n",
    "    browser.find_element_by_xpath('//*[@id=\"main\"]/footer/div[1]/div[3]/button/span').click()\n"
   ]
  },
  {
   "cell_type": "code",
   "execution_count": null,
   "metadata": {},
   "outputs": [],
   "source": []
  }
 ],
 "metadata": {
  "kernelspec": {
   "display_name": "Python 3",
   "language": "python",
   "name": "python3"
  },
  "language_info": {
   "codemirror_mode": {
    "name": "ipython",
    "version": 3
   },
   "file_extension": ".py",
   "mimetype": "text/x-python",
   "name": "python",
   "nbconvert_exporter": "python",
   "pygments_lexer": "ipython3",
   "version": "3.7.6"
  }
 },
 "nbformat": 4,
 "nbformat_minor": 4
}
